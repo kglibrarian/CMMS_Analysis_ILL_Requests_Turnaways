{
 "cells": [
  {
   "cell_type": "code",
   "execution_count": 1,
   "id": "744674e6",
   "metadata": {},
   "outputs": [],
   "source": [
    "import sys, os\n",
    "import pandas as pd"
   ]
  },
  {
   "cell_type": "code",
   "execution_count": null,
   "id": "a1a68637",
   "metadata": {},
   "outputs": [],
   "source": [
    "## Use this to SQL query in Elements Reporting Database for faculty publication data\n",
    "## https://github.com/kglibrarian/symplecticelementssql/blob/master/Data%20Source%20Publication%20IDs%20Report%20by%20Group%20of%20Authors.md\n",
    "\n",
    "## Upload the resulting .csv from Elements\n",
    "\n",
    "reporter_data_path = \"data/SearchResult_Export_25Jul2022_035930.csv\""
   ]
  }
 ],
 "metadata": {
  "kernelspec": {
   "display_name": "Python 3 (ipykernel)",
   "language": "python",
   "name": "python3"
  },
  "language_info": {
   "codemirror_mode": {
    "name": "ipython",
    "version": 3
   },
   "file_extension": ".py",
   "mimetype": "text/x-python",
   "name": "python",
   "nbconvert_exporter": "python",
   "pygments_lexer": "ipython3",
   "version": "3.9.12"
  }
 },
 "nbformat": 4,
 "nbformat_minor": 5
}
